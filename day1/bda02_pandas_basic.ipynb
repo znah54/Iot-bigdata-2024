{
 "cells": [
  {
   "cell_type": "markdown",
   "metadata": {},
   "source": [
    "### Pandas 기초\n",
    "- 데이터 처리 라이브러리\n",
    "\n",
    "#### Pandas 설치\n",
    "```shell\n",
    "!pip install pandas\n",
    "```\n",
    "\n",
    "#### PyArrow 설치\n",
    "- Pandas에 새로 추가된 라이브러리\n",
    "```shell\n",
    "!pip install pyarrow\n",
    "```"
   ]
  },
  {
   "cell_type": "code",
   "execution_count": 1,
   "metadata": {},
   "outputs": [
    {
     "name": "stdout",
     "output_type": "stream",
     "text": [
      "Requirement already satisfied: pandas in c:\\dev\\langs\\python311\\lib\\site-packages (2.2.0)\n",
      "Requirement already satisfied: numpy<2,>=1.23.2 in c:\\dev\\langs\\python311\\lib\\site-packages (from pandas) (1.26.3)\n",
      "Requirement already satisfied: python-dateutil>=2.8.2 in c:\\users\\user\\appdata\\roaming\\python\\python311\\site-packages (from pandas) (2.8.2)\n",
      "Requirement already satisfied: pytz>=2020.1 in c:\\dev\\langs\\python311\\lib\\site-packages (from pandas) (2024.1)\n",
      "Requirement already satisfied: tzdata>=2022.7 in c:\\dev\\langs\\python311\\lib\\site-packages (from pandas) (2024.1)\n",
      "Requirement already satisfied: six>=1.5 in c:\\users\\user\\appdata\\roaming\\python\\python311\\site-packages (from python-dateutil>=2.8.2->pandas) (1.16.0)\n"
     ]
    },
    {
     "name": "stderr",
     "output_type": "stream",
     "text": [
      "\n",
      "[notice] A new release of pip is available: 24.0 -> 24.2\n",
      "[notice] To update, run: python.exe -m pip install --upgrade pip\n"
     ]
    }
   ],
   "source": [
    "!pip install pandas"
   ]
  },
  {
   "cell_type": "code",
   "execution_count": 3,
   "metadata": {},
   "outputs": [
    {
     "name": "stdout",
     "output_type": "stream",
     "text": [
      "Collecting pyarrow\n",
      "  Downloading pyarrow-17.0.0-cp311-cp311-win_amd64.whl.metadata (3.4 kB)\n",
      "Requirement already satisfied: numpy>=1.16.6 in c:\\dev\\langs\\python311\\lib\\site-packages (from pyarrow) (1.26.3)\n",
      "Downloading pyarrow-17.0.0-cp311-cp311-win_amd64.whl (25.2 MB)\n",
      "   ---------------------------------------- 0.0/25.2 MB ? eta -:--:--\n",
      "   ---------------------------------------- 0.0/25.2 MB ? eta -:--:--\n",
      "   ---------------------------------------- 0.0/25.2 MB 495.5 kB/s eta 0:00:51\n",
      "    --------------------------------------- 0.4/25.2 MB 3.3 MB/s eta 0:00:08\n",
      "   - -------------------------------------- 0.9/25.2 MB 5.8 MB/s eta 0:00:05\n",
      "   -- ------------------------------------- 1.4/25.2 MB 7.0 MB/s eta 0:00:04\n",
      "   --- ------------------------------------ 2.0/25.2 MB 8.0 MB/s eta 0:00:03\n",
      "   --- ------------------------------------ 2.4/25.2 MB 8.0 MB/s eta 0:00:03\n",
      "   ---- ----------------------------------- 2.7/25.2 MB 8.0 MB/s eta 0:00:03\n",
      "   ----- ---------------------------------- 3.3/25.2 MB 8.4 MB/s eta 0:00:03\n",
      "   ------ --------------------------------- 3.9/25.2 MB 8.8 MB/s eta 0:00:03\n",
      "   ------ --------------------------------- 4.4/25.2 MB 9.0 MB/s eta 0:00:03\n",
      "   ------- -------------------------------- 4.9/25.2 MB 9.3 MB/s eta 0:00:03\n",
      "   -------- ------------------------------- 5.5/25.2 MB 9.5 MB/s eta 0:00:03\n",
      "   --------- ------------------------------ 6.1/25.2 MB 9.7 MB/s eta 0:00:02\n",
      "   ---------- ----------------------------- 6.6/25.2 MB 9.8 MB/s eta 0:00:02\n",
      "   ----------- ---------------------------- 7.2/25.2 MB 10.0 MB/s eta 0:00:02\n",
      "   ------------ --------------------------- 7.7/25.2 MB 10.1 MB/s eta 0:00:02\n",
      "   ------------- -------------------------- 8.3/25.2 MB 10.2 MB/s eta 0:00:02\n",
      "   -------------- ------------------------- 8.8/25.2 MB 10.3 MB/s eta 0:00:02\n",
      "   -------------- ------------------------- 9.4/25.2 MB 10.3 MB/s eta 0:00:02\n",
      "   --------------- ------------------------ 9.9/25.2 MB 10.4 MB/s eta 0:00:02\n",
      "   ---------------- ----------------------- 10.5/25.2 MB 11.5 MB/s eta 0:00:02\n",
      "   ----------------- ---------------------- 11.0/25.2 MB 11.5 MB/s eta 0:00:02\n",
      "   ------------------ --------------------- 11.6/25.2 MB 11.5 MB/s eta 0:00:02\n",
      "   ------------------- -------------------- 12.1/25.2 MB 11.5 MB/s eta 0:00:02\n",
      "   -------------------- ------------------- 12.7/25.2 MB 11.7 MB/s eta 0:00:02\n",
      "   --------------------- ------------------ 13.3/25.2 MB 11.9 MB/s eta 0:00:01\n",
      "   --------------------- ------------------ 13.8/25.2 MB 11.9 MB/s eta 0:00:01\n",
      "   ---------------------- ----------------- 14.3/25.2 MB 11.9 MB/s eta 0:00:01\n",
      "   ----------------------- ---------------- 14.9/25.2 MB 11.9 MB/s eta 0:00:01\n",
      "   ------------------------ --------------- 15.5/25.2 MB 11.9 MB/s eta 0:00:01\n",
      "   ------------------------- -------------- 16.0/25.2 MB 11.9 MB/s eta 0:00:01\n",
      "   -------------------------- ------------- 16.6/25.2 MB 11.9 MB/s eta 0:00:01\n",
      "   --------------------------- ------------ 17.1/25.2 MB 11.9 MB/s eta 0:00:01\n",
      "   ---------------------------- ----------- 17.7/25.2 MB 11.9 MB/s eta 0:00:01\n",
      "   ---------------------------- ----------- 18.2/25.2 MB 11.9 MB/s eta 0:00:01\n",
      "   ----------------------------- ---------- 18.7/25.2 MB 11.9 MB/s eta 0:00:01\n",
      "   ------------------------------ --------- 19.3/25.2 MB 11.9 MB/s eta 0:00:01\n",
      "   ------------------------------- -------- 19.9/25.2 MB 11.9 MB/s eta 0:00:01\n",
      "   -------------------------------- ------- 20.4/25.2 MB 11.7 MB/s eta 0:00:01\n",
      "   --------------------------------- ------ 21.0/25.2 MB 11.7 MB/s eta 0:00:01\n",
      "   ---------------------------------- ----- 21.5/25.2 MB 11.7 MB/s eta 0:00:01\n",
      "   ----------------------------------- ---- 22.0/25.2 MB 11.7 MB/s eta 0:00:01\n",
      "   ----------------------------------- ---- 22.6/25.2 MB 11.7 MB/s eta 0:00:01\n",
      "   ------------------------------------ --- 23.1/25.2 MB 11.7 MB/s eta 0:00:01\n",
      "   ------------------------------------- -- 23.7/25.2 MB 11.7 MB/s eta 0:00:01\n",
      "   -------------------------------------- - 24.2/25.2 MB 11.7 MB/s eta 0:00:01\n",
      "   ---------------------------------------  24.8/25.2 MB 11.9 MB/s eta 0:00:01\n",
      "   ---------------------------------------  25.1/25.2 MB 11.7 MB/s eta 0:00:01\n",
      "   ---------------------------------------  25.1/25.2 MB 11.7 MB/s eta 0:00:01\n",
      "   ---------------------------------------- 25.2/25.2 MB 10.9 MB/s eta 0:00:00\n",
      "Installing collected packages: pyarrow\n",
      "Successfully installed pyarrow-17.0.0\n"
     ]
    },
    {
     "name": "stderr",
     "output_type": "stream",
     "text": [
      "\n",
      "[notice] A new release of pip is available: 24.0 -> 24.2\n",
      "[notice] To update, run: python.exe -m pip install --upgrade pip\n"
     ]
    }
   ],
   "source": [
    "!pip install pyarrow"
   ]
  },
  {
   "cell_type": "markdown",
   "metadata": {},
   "source": [
    "- Pandas 사용"
   ]
  },
  {
   "cell_type": "code",
   "execution_count": 4,
   "metadata": {},
   "outputs": [],
   "source": [
    "# Pyarrow will become a required dependency of pandas in the next major release of pandas (pandas 3.0),\n",
    "import pandas as pd # pd로 줄여씀"
   ]
  },
  {
   "cell_type": "markdown",
   "metadata": {},
   "source": [
    "#### 판다스 기본\n",
    "- 시리즈, 데이터프레임 개념\n",
    "- 판다스에서는 데이터프레임이 가장 기본. 데이터 처리도중 잘라서 시리즈를 사용함\n",
    "\n",
    "\n",
    "<img src=\"https://raw.githubusercontent.com/hugoMGSung/bigdata-analysis-2024/main/images/ba001.png\" width=\"730\">"
   ]
  },
  {
   "cell_type": "code",
   "execution_count": 7,
   "metadata": {},
   "outputs": [
    {
     "data": {
      "text/plain": [
       "({'이름': ['성유고', '애슐리', '홍길동'], '나이': [47, 40, 99], '결혼': [True, True, False]},\n",
       " dict)"
      ]
     },
     "execution_count": 7,
     "metadata": {},
     "output_type": "execute_result"
    }
   ],
   "source": [
    "# 데이터프레임 객체 - 2차원 배열\n",
    "## 딕셔너리 생성\n",
    "origin = {'이름': ['성유고', '애슐리', '홍길동'], '나이': [47, 40, 99], '결혼': [True, True, False]}\n",
    "origin, type(origin)"
   ]
  },
  {
   "cell_type": "code",
   "execution_count": 9,
   "metadata": {},
   "outputs": [
    {
     "data": {
      "text/html": [
       "<div>\n",
       "<style scoped>\n",
       "    .dataframe tbody tr th:only-of-type {\n",
       "        vertical-align: middle;\n",
       "    }\n",
       "\n",
       "    .dataframe tbody tr th {\n",
       "        vertical-align: top;\n",
       "    }\n",
       "\n",
       "    .dataframe thead th {\n",
       "        text-align: right;\n",
       "    }\n",
       "</style>\n",
       "<table border=\"1\" class=\"dataframe\">\n",
       "  <thead>\n",
       "    <tr style=\"text-align: right;\">\n",
       "      <th></th>\n",
       "      <th>이름</th>\n",
       "      <th>나이</th>\n",
       "      <th>결혼</th>\n",
       "    </tr>\n",
       "  </thead>\n",
       "  <tbody>\n",
       "    <tr>\n",
       "      <th>0</th>\n",
       "      <td>성유고</td>\n",
       "      <td>47</td>\n",
       "      <td>True</td>\n",
       "    </tr>\n",
       "    <tr>\n",
       "      <th>1</th>\n",
       "      <td>애슐리</td>\n",
       "      <td>40</td>\n",
       "      <td>True</td>\n",
       "    </tr>\n",
       "    <tr>\n",
       "      <th>2</th>\n",
       "      <td>홍길동</td>\n",
       "      <td>99</td>\n",
       "      <td>False</td>\n",
       "    </tr>\n",
       "  </tbody>\n",
       "</table>\n",
       "</div>"
      ],
      "text/plain": [
       "    이름  나이     결혼\n",
       "0  성유고  47   True\n",
       "1  애슐리  40   True\n",
       "2  홍길동  99  False"
      ]
     },
     "execution_count": 9,
     "metadata": {},
     "output_type": "execute_result"
    }
   ],
   "source": [
    "## 1. 딕셔너리로 데이터프레임 생성, 변수명을 보통 df로 사용\n",
    "df = pd.DataFrame(data=origin)\n",
    "df"
   ]
  },
  {
   "cell_type": "code",
   "execution_count": 11,
   "metadata": {},
   "outputs": [
    {
     "data": {
      "text/plain": [
       "pandas.core.frame.DataFrame"
      ]
     },
     "execution_count": 11,
     "metadata": {},
     "output_type": "execute_result"
    }
   ],
   "source": [
    "# 데이터 프레임타입\n",
    "type(df)"
   ]
  },
  {
   "cell_type": "code",
   "execution_count": 12,
   "metadata": {},
   "outputs": [
    {
     "data": {
      "text/html": [
       "<div>\n",
       "<style scoped>\n",
       "    .dataframe tbody tr th:only-of-type {\n",
       "        vertical-align: middle;\n",
       "    }\n",
       "\n",
       "    .dataframe tbody tr th {\n",
       "        vertical-align: top;\n",
       "    }\n",
       "\n",
       "    .dataframe thead th {\n",
       "        text-align: right;\n",
       "    }\n",
       "</style>\n",
       "<table border=\"1\" class=\"dataframe\">\n",
       "  <thead>\n",
       "    <tr style=\"text-align: right;\">\n",
       "      <th></th>\n",
       "      <th>0</th>\n",
       "      <th>1</th>\n",
       "      <th>2</th>\n",
       "      <th>3</th>\n",
       "    </tr>\n",
       "  </thead>\n",
       "  <tbody>\n",
       "    <tr>\n",
       "      <th>0</th>\n",
       "      <td>성유고</td>\n",
       "      <td>47</td>\n",
       "      <td>부산</td>\n",
       "      <td>True</td>\n",
       "    </tr>\n",
       "    <tr>\n",
       "      <th>1</th>\n",
       "      <td>애슐리</td>\n",
       "      <td>40</td>\n",
       "      <td>부산</td>\n",
       "      <td>True</td>\n",
       "    </tr>\n",
       "    <tr>\n",
       "      <th>2</th>\n",
       "      <td>홍길동</td>\n",
       "      <td>99</td>\n",
       "      <td>경성</td>\n",
       "      <td>False</td>\n",
       "    </tr>\n",
       "    <tr>\n",
       "      <th>3</th>\n",
       "      <td>홍길순</td>\n",
       "      <td>90</td>\n",
       "      <td>경성</td>\n",
       "      <td>True</td>\n",
       "    </tr>\n",
       "  </tbody>\n",
       "</table>\n",
       "</div>"
      ],
      "text/plain": [
       "     0   1   2      3\n",
       "0  성유고  47  부산   True\n",
       "1  애슐리  40  부산   True\n",
       "2  홍길동  99  경성  False\n",
       "3  홍길순  90  경성   True"
      ]
     },
     "execution_count": 12,
     "metadata": {},
     "output_type": "execute_result"
    }
   ],
   "source": [
    "## 2. 파이썬 리스트로 데이터프레임생성\n",
    "data = [['성유고', 47, '부산', True],\n",
    "        ['애슐리', 40, '부산', True],\n",
    "        ['홍길동', 99, '경성', False],\n",
    "        ['홍길순', 90, '경성', True],\n",
    "       ]\n",
    "df2 = pd.DataFrame(data=data)\n",
    "df2"
   ]
  },
  {
   "cell_type": "code",
   "execution_count": 13,
   "metadata": {},
   "outputs": [
    {
     "data": {
      "text/html": [
       "<div>\n",
       "<style scoped>\n",
       "    .dataframe tbody tr th:only-of-type {\n",
       "        vertical-align: middle;\n",
       "    }\n",
       "\n",
       "    .dataframe tbody tr th {\n",
       "        vertical-align: top;\n",
       "    }\n",
       "\n",
       "    .dataframe thead th {\n",
       "        text-align: right;\n",
       "    }\n",
       "</style>\n",
       "<table border=\"1\" class=\"dataframe\">\n",
       "  <thead>\n",
       "    <tr style=\"text-align: right;\">\n",
       "      <th></th>\n",
       "      <th>이름</th>\n",
       "      <th>나이</th>\n",
       "      <th>주소</th>\n",
       "      <th>결혼</th>\n",
       "    </tr>\n",
       "  </thead>\n",
       "  <tbody>\n",
       "    <tr>\n",
       "      <th>0</th>\n",
       "      <td>성유고</td>\n",
       "      <td>47</td>\n",
       "      <td>부산</td>\n",
       "      <td>True</td>\n",
       "    </tr>\n",
       "    <tr>\n",
       "      <th>1</th>\n",
       "      <td>애슐리</td>\n",
       "      <td>40</td>\n",
       "      <td>부산</td>\n",
       "      <td>True</td>\n",
       "    </tr>\n",
       "    <tr>\n",
       "      <th>2</th>\n",
       "      <td>홍길동</td>\n",
       "      <td>99</td>\n",
       "      <td>경성</td>\n",
       "      <td>False</td>\n",
       "    </tr>\n",
       "    <tr>\n",
       "      <th>3</th>\n",
       "      <td>홍길순</td>\n",
       "      <td>90</td>\n",
       "      <td>경성</td>\n",
       "      <td>True</td>\n",
       "    </tr>\n",
       "  </tbody>\n",
       "</table>\n",
       "</div>"
      ],
      "text/plain": [
       "    이름  나이  주소     결혼\n",
       "0  성유고  47  부산   True\n",
       "1  애슐리  40  부산   True\n",
       "2  홍길동  99  경성  False\n",
       "3  홍길순  90  경성   True"
      ]
     },
     "execution_count": 13,
     "metadata": {},
     "output_type": "execute_result"
    }
   ],
   "source": [
    "## 리스트로 DF를 만들면 컬럼 제목이 없기때문에 추가를 해줘야\n",
    "df2 = pd.DataFrame(data=data, columns=['이름', '나이', '주소', '결혼'])\n",
    "df2"
   ]
  },
  {
   "cell_type": "code",
   "execution_count": 14,
   "metadata": {},
   "outputs": [
    {
     "data": {
      "text/plain": [
       "0    1\n",
       "1    2\n",
       "2    3\n",
       "3    4\n",
       "dtype: int64"
      ]
     },
     "execution_count": 14,
     "metadata": {},
     "output_type": "execute_result"
    }
   ],
   "source": [
    "## 시리즈 생성\n",
    "sr1 = pd.Series([1, 2, 3, 4])\n",
    "sr1"
   ]
  },
  {
   "cell_type": "code",
   "execution_count": 15,
   "metadata": {},
   "outputs": [
    {
     "data": {
      "text/plain": [
       "pandas.core.series.Series"
      ]
     },
     "execution_count": 15,
     "metadata": {},
     "output_type": "execute_result"
    }
   ],
   "source": [
    "# 시리즈 타입 확인\n",
    "type(sr1)"
   ]
  },
  {
   "cell_type": "code",
   "execution_count": 17,
   "metadata": {},
   "outputs": [
    {
     "data": {
      "text/plain": [
       "0    성유고\n",
       "1    애슐리\n",
       "2    홍길동\n",
       "3    홍길순\n",
       "Name: 이름, dtype: object"
      ]
     },
     "execution_count": 17,
     "metadata": {},
     "output_type": "execute_result"
    }
   ],
   "source": [
    "df2['이름']"
   ]
  },
  {
   "cell_type": "code",
   "execution_count": 18,
   "metadata": {},
   "outputs": [
    {
     "data": {
      "text/plain": [
       "pandas.core.series.Series"
      ]
     },
     "execution_count": 18,
     "metadata": {},
     "output_type": "execute_result"
    }
   ],
   "source": [
    "type(df2['이름'])"
   ]
  },
  {
   "cell_type": "code",
   "execution_count": 19,
   "metadata": {},
   "outputs": [
    {
     "data": {
      "text/html": [
       "<div>\n",
       "<style scoped>\n",
       "    .dataframe tbody tr th:only-of-type {\n",
       "        vertical-align: middle;\n",
       "    }\n",
       "\n",
       "    .dataframe tbody tr th {\n",
       "        vertical-align: top;\n",
       "    }\n",
       "\n",
       "    .dataframe thead th {\n",
       "        text-align: right;\n",
       "    }\n",
       "</style>\n",
       "<table border=\"1\" class=\"dataframe\">\n",
       "  <thead>\n",
       "    <tr style=\"text-align: right;\">\n",
       "      <th></th>\n",
       "      <th>이름</th>\n",
       "      <th>나이</th>\n",
       "    </tr>\n",
       "  </thead>\n",
       "  <tbody>\n",
       "    <tr>\n",
       "      <th>0</th>\n",
       "      <td>성유고</td>\n",
       "      <td>47</td>\n",
       "    </tr>\n",
       "    <tr>\n",
       "      <th>1</th>\n",
       "      <td>애슐리</td>\n",
       "      <td>40</td>\n",
       "    </tr>\n",
       "    <tr>\n",
       "      <th>2</th>\n",
       "      <td>홍길동</td>\n",
       "      <td>99</td>\n",
       "    </tr>\n",
       "    <tr>\n",
       "      <th>3</th>\n",
       "      <td>홍길순</td>\n",
       "      <td>90</td>\n",
       "    </tr>\n",
       "  </tbody>\n",
       "</table>\n",
       "</div>"
      ],
      "text/plain": [
       "    이름  나이\n",
       "0  성유고  47\n",
       "1  애슐리  40\n",
       "2  홍길동  99\n",
       "3  홍길순  90"
      ]
     },
     "execution_count": 19,
     "metadata": {},
     "output_type": "execute_result"
    }
   ],
   "source": [
    "## DF에서 두열 인덱싱\n",
    "df2[['이름', '나이']]"
   ]
  },
  {
   "cell_type": "markdown",
   "metadata": {},
   "source": [
    "- 판다스 자료형\n",
    "    - Boolean\n",
    "    - Int8 ~ 64\n",
    "    - Uint8 ~ 64\n",
    "    - Float32, Float64\n",
    "    - DateTime\n",
    "    - Object\n",
    "    - Categorical"
   ]
  },
  {
   "cell_type": "markdown",
   "metadata": {},
   "source": [
    "- DataFrame 조작하는 방법, 빅데이터 분석할 때 실습으로 대체"
   ]
  },
  {
   "cell_type": "markdown",
   "metadata": {},
   "source": [
    "##### 데이터프레임 사용하기(CSV, Excel...)\n",
    "- 엑셀 라이브러리 openpyxl 설치\n",
    "```shell\n",
    "!pip install openpyxl\n",
    "```"
   ]
  },
  {
   "cell_type": "code",
   "execution_count": 20,
   "metadata": {},
   "outputs": [
    {
     "name": "stdout",
     "output_type": "stream",
     "text": [
      "Collecting openpyxl\n",
      "  Downloading openpyxl-3.1.5-py2.py3-none-any.whl.metadata (2.5 kB)\n",
      "Collecting et-xmlfile (from openpyxl)\n",
      "  Downloading et_xmlfile-1.1.0-py3-none-any.whl.metadata (1.8 kB)\n",
      "Downloading openpyxl-3.1.5-py2.py3-none-any.whl (250 kB)\n",
      "   ---------------------------------------- 0.0/250.9 kB ? eta -:--:--\n",
      "   ---------------------------------------- 0.0/250.9 kB ? eta -:--:--\n",
      "   - -------------------------------------- 10.2/250.9 kB ? eta -:--:--\n",
      "   --------- ----------------------------- 61.4/250.9 kB 656.4 kB/s eta 0:00:01\n",
      "   ------------------------------- -------- 194.6/250.9 kB 1.5 MB/s eta 0:00:01\n",
      "   ---------------------------------------- 250.9/250.9 kB 1.5 MB/s eta 0:00:00\n",
      "Downloading et_xmlfile-1.1.0-py3-none-any.whl (4.7 kB)\n",
      "Installing collected packages: et-xmlfile, openpyxl\n",
      "Successfully installed et-xmlfile-1.1.0 openpyxl-3.1.5\n"
     ]
    },
    {
     "name": "stderr",
     "output_type": "stream",
     "text": [
      "\n",
      "[notice] A new release of pip is available: 24.0 -> 24.2\n",
      "[notice] To update, run: python.exe -m pip install --upgrade pip\n"
     ]
    }
   ],
   "source": [
    "!pip install openpyxl"
   ]
  },
  {
   "cell_type": "code",
   "execution_count": 26,
   "metadata": {},
   "outputs": [
    {
     "data": {
      "text/html": [
       "<div>\n",
       "<style scoped>\n",
       "    .dataframe tbody tr th:only-of-type {\n",
       "        vertical-align: middle;\n",
       "    }\n",
       "\n",
       "    .dataframe tbody tr th {\n",
       "        vertical-align: top;\n",
       "    }\n",
       "\n",
       "    .dataframe thead th {\n",
       "        text-align: right;\n",
       "    }\n",
       "</style>\n",
       "<table border=\"1\" class=\"dataframe\">\n",
       "  <thead>\n",
       "    <tr style=\"text-align: right;\">\n",
       "      <th></th>\n",
       "      <th>국적코드</th>\n",
       "      <th>성별</th>\n",
       "      <th>입국객수</th>\n",
       "      <th>전년동기</th>\n",
       "    </tr>\n",
       "  </thead>\n",
       "  <tbody>\n",
       "    <tr>\n",
       "      <th>0</th>\n",
       "      <td>A01</td>\n",
       "      <td>남성</td>\n",
       "      <td>106320</td>\n",
       "      <td>85815</td>\n",
       "    </tr>\n",
       "    <tr>\n",
       "      <th>1</th>\n",
       "      <td>A01</td>\n",
       "      <td>여성</td>\n",
       "      <td>191436</td>\n",
       "      <td>125241</td>\n",
       "    </tr>\n",
       "    <tr>\n",
       "      <th>2</th>\n",
       "      <td>A31</td>\n",
       "      <td>남성</td>\n",
       "      <td>319</td>\n",
       "      <td>299</td>\n",
       "    </tr>\n",
       "    <tr>\n",
       "      <th>3</th>\n",
       "      <td>A31</td>\n",
       "      <td>여성</td>\n",
       "      <td>42</td>\n",
       "      <td>54</td>\n",
       "    </tr>\n",
       "    <tr>\n",
       "      <th>4</th>\n",
       "      <td>A18</td>\n",
       "      <td>남성</td>\n",
       "      <td>158912</td>\n",
       "      <td>124486</td>\n",
       "    </tr>\n",
       "    <tr>\n",
       "      <th>5</th>\n",
       "      <td>A18</td>\n",
       "      <td>여성</td>\n",
       "      <td>232943</td>\n",
       "      <td>163466</td>\n",
       "    </tr>\n",
       "  </tbody>\n",
       "</table>\n",
       "</div>"
      ],
      "text/plain": [
       "  국적코드  성별    입국객수    전년동기\n",
       "0  A01  남성  106320   85815\n",
       "1  A01  여성  191436  125241\n",
       "2  A31  남성     319     299\n",
       "3  A31  여성      42      54\n",
       "4  A18  남성  158912  124486\n",
       "5  A18  여성  232943  163466"
      ]
     },
     "execution_count": 26,
     "metadata": {},
     "output_type": "execute_result"
    }
   ],
   "source": [
    "# csv파일 읽어오기\n",
    "df_csv = pd.read_csv('./data/sample_1.csv', header=1, skipfooter=2, engine='python', encoding='utf-8')\n",
    "df_csv"
   ]
  },
  {
   "cell_type": "code",
   "execution_count": 27,
   "metadata": {},
   "outputs": [],
   "source": [
    "# csv파일로 저장\n",
    "df_csv.to_csv('./data/sample_2.csv')"
   ]
  },
  {
   "cell_type": "code",
   "execution_count": 28,
   "metadata": {},
   "outputs": [],
   "source": [
    "# excel로 저장\n",
    "df_csv.to_excel('./data/sample_2.xlsx')"
   ]
  },
  {
   "cell_type": "code",
   "execution_count": 30,
   "metadata": {},
   "outputs": [
    {
     "data": {
      "text/html": [
       "<div>\n",
       "<style scoped>\n",
       "    .dataframe tbody tr th:only-of-type {\n",
       "        vertical-align: middle;\n",
       "    }\n",
       "\n",
       "    .dataframe tbody tr th {\n",
       "        vertical-align: top;\n",
       "    }\n",
       "\n",
       "    .dataframe thead th {\n",
       "        text-align: right;\n",
       "    }\n",
       "</style>\n",
       "<table border=\"1\" class=\"dataframe\">\n",
       "  <thead>\n",
       "    <tr style=\"text-align: right;\">\n",
       "      <th></th>\n",
       "      <th>국적코드</th>\n",
       "      <th>성별</th>\n",
       "      <th>입국객수</th>\n",
       "      <th>전년동기</th>\n",
       "    </tr>\n",
       "  </thead>\n",
       "  <tbody>\n",
       "    <tr>\n",
       "      <th>0</th>\n",
       "      <td>A01</td>\n",
       "      <td>남성</td>\n",
       "      <td>106320</td>\n",
       "      <td>85815</td>\n",
       "    </tr>\n",
       "    <tr>\n",
       "      <th>1</th>\n",
       "      <td>A01</td>\n",
       "      <td>여성</td>\n",
       "      <td>191436</td>\n",
       "      <td>125241</td>\n",
       "    </tr>\n",
       "    <tr>\n",
       "      <th>2</th>\n",
       "      <td>A31</td>\n",
       "      <td>남성</td>\n",
       "      <td>319</td>\n",
       "      <td>299</td>\n",
       "    </tr>\n",
       "    <tr>\n",
       "      <th>3</th>\n",
       "      <td>A31</td>\n",
       "      <td>여성</td>\n",
       "      <td>42</td>\n",
       "      <td>54</td>\n",
       "    </tr>\n",
       "    <tr>\n",
       "      <th>4</th>\n",
       "      <td>A18</td>\n",
       "      <td>남성</td>\n",
       "      <td>158912</td>\n",
       "      <td>124486</td>\n",
       "    </tr>\n",
       "    <tr>\n",
       "      <th>5</th>\n",
       "      <td>A18</td>\n",
       "      <td>여성</td>\n",
       "      <td>232943</td>\n",
       "      <td>163466</td>\n",
       "    </tr>\n",
       "  </tbody>\n",
       "</table>\n",
       "</div>"
      ],
      "text/plain": [
       "  국적코드  성별    입국객수    전년동기\n",
       "0  A01  남성  106320   85815\n",
       "1  A01  여성  191436  125241\n",
       "2  A31  남성     319     299\n",
       "3  A31  여성      42      54\n",
       "4  A18  남성  158912  124486\n",
       "5  A18  여성  232943  163466"
      ]
     },
     "execution_count": 30,
     "metadata": {},
     "output_type": "execute_result"
    }
   ],
   "source": [
    "# excel파일 읽기, 글자가 깨지면 encoding='utf-8' 또는 'euc-kr' 바꿔서 실행\n",
    "df_excel = pd.read_excel('./data/sample_1.xlsx', header=1, skipfooter=2)\n",
    "df_excel"
   ]
  },
  {
   "cell_type": "code",
   "execution_count": 33,
   "metadata": {},
   "outputs": [
    {
     "data": {
      "text/html": [
       "<div>\n",
       "<style scoped>\n",
       "    .dataframe tbody tr th:only-of-type {\n",
       "        vertical-align: middle;\n",
       "    }\n",
       "\n",
       "    .dataframe tbody tr th {\n",
       "        vertical-align: top;\n",
       "    }\n",
       "\n",
       "    .dataframe thead th {\n",
       "        text-align: right;\n",
       "    }\n",
       "</style>\n",
       "<table border=\"1\" class=\"dataframe\">\n",
       "  <thead>\n",
       "    <tr style=\"text-align: right;\">\n",
       "      <th></th>\n",
       "      <th>시설명</th>\n",
       "      <th>도로명주소</th>\n",
       "      <th>지번주소</th>\n",
       "      <th>위도</th>\n",
       "      <th>경도</th>\n",
       "      <th>저류조 용량</th>\n",
       "      <th>이용용도</th>\n",
       "      <th>데이터기준일자</th>\n",
       "    </tr>\n",
       "  </thead>\n",
       "  <tbody>\n",
       "    <tr>\n",
       "      <th>0</th>\n",
       "      <td>효성해링턴플레이스 2단지</td>\n",
       "      <td>경기도 평택시 소사3로 22</td>\n",
       "      <td>NaN</td>\n",
       "      <td>36.987411</td>\n",
       "      <td>127.129658</td>\n",
       "      <td>1000.0</td>\n",
       "      <td>조경용수</td>\n",
       "      <td>2024-07-30</td>\n",
       "    </tr>\n",
       "    <tr>\n",
       "      <th>1</th>\n",
       "      <td>더샵지제역센트럴파크 3블럭</td>\n",
       "      <td>경기도 평택시 동삭1로22번길 40</td>\n",
       "      <td>NaN</td>\n",
       "      <td>37.016099</td>\n",
       "      <td>127.093232</td>\n",
       "      <td>462.0</td>\n",
       "      <td>조경용수</td>\n",
       "      <td>2024-07-30</td>\n",
       "    </tr>\n",
       "    <tr>\n",
       "      <th>2</th>\n",
       "      <td>평택힐스테이트 2차</td>\n",
       "      <td>경기도 평택시 세교6로 45</td>\n",
       "      <td>경기도 평택시 세교동 597</td>\n",
       "      <td>37.009950</td>\n",
       "      <td>127.086697</td>\n",
       "      <td>518.0</td>\n",
       "      <td>조경용수</td>\n",
       "      <td>2024-07-30</td>\n",
       "    </tr>\n",
       "    <tr>\n",
       "      <th>3</th>\n",
       "      <td>소사벌 효성해링턴코트</td>\n",
       "      <td>경기도 평택시 죽백8길 37</td>\n",
       "      <td>경기도 평택시 죽백동 766</td>\n",
       "      <td>37.006831</td>\n",
       "      <td>127.119152</td>\n",
       "      <td>1300.0</td>\n",
       "      <td>조경용수</td>\n",
       "      <td>2024-07-30</td>\n",
       "    </tr>\n",
       "    <tr>\n",
       "      <th>4</th>\n",
       "      <td>비전지웰 테라스하우스</td>\n",
       "      <td>경기도 평택시 용죽6길 64</td>\n",
       "      <td>경기도 평택시 용이동 661</td>\n",
       "      <td>36.996280</td>\n",
       "      <td>127.127966</td>\n",
       "      <td>743.0</td>\n",
       "      <td>조경용수</td>\n",
       "      <td>2024-07-30</td>\n",
       "    </tr>\n",
       "  </tbody>\n",
       "</table>\n",
       "</div>"
      ],
      "text/plain": [
       "              시설명                도로명주소             지번주소         위도  \\\n",
       "0   효성해링턴플레이스 2단지      경기도 평택시 소사3로 22              NaN  36.987411   \n",
       "1  더샵지제역센트럴파크 3블럭  경기도 평택시 동삭1로22번길 40              NaN  37.016099   \n",
       "2      평택힐스테이트 2차      경기도 평택시 세교6로 45  경기도 평택시 세교동 597  37.009950   \n",
       "3     소사벌 효성해링턴코트      경기도 평택시 죽백8길 37  경기도 평택시 죽백동 766  37.006831   \n",
       "4     비전지웰 테라스하우스      경기도 평택시 용죽6길 64  경기도 평택시 용이동 661  36.996280   \n",
       "\n",
       "           경도  저류조 용량  이용용도     데이터기준일자  \n",
       "0  127.129658  1000.0  조경용수  2024-07-30  \n",
       "1  127.093232   462.0  조경용수  2024-07-30  \n",
       "2  127.086697   518.0  조경용수  2024-07-30  \n",
       "3  127.119152  1300.0  조경용수  2024-07-30  \n",
       "4  127.127966   743.0  조경용수  2024-07-30  "
      ]
     },
     "execution_count": 33,
     "metadata": {},
     "output_type": "execute_result"
    }
   ],
   "source": [
    "## 데이터포털 빗물이용시설현황 데이터 로드\n",
    "df_csv_rain = pd.read_csv('./data/경기도_평택시_빗물이용시설현황_20240730.csv', encoding='euc-kr')\n",
    "df_csv_rain.head()"
   ]
  },
  {
   "cell_type": "code",
   "execution_count": 35,
   "metadata": {},
   "outputs": [
    {
     "data": {
      "text/html": [
       "<div>\n",
       "<style scoped>\n",
       "    .dataframe tbody tr th:only-of-type {\n",
       "        vertical-align: middle;\n",
       "    }\n",
       "\n",
       "    .dataframe tbody tr th {\n",
       "        vertical-align: top;\n",
       "    }\n",
       "\n",
       "    .dataframe thead th {\n",
       "        text-align: right;\n",
       "    }\n",
       "</style>\n",
       "<table border=\"1\" class=\"dataframe\">\n",
       "  <thead>\n",
       "    <tr style=\"text-align: right;\">\n",
       "      <th></th>\n",
       "      <th>시설명</th>\n",
       "      <th>도로명주소</th>\n",
       "      <th>지번주소</th>\n",
       "      <th>위도</th>\n",
       "      <th>경도</th>\n",
       "      <th>저류조 용량</th>\n",
       "      <th>이용용도</th>\n",
       "      <th>데이터기준일자</th>\n",
       "    </tr>\n",
       "  </thead>\n",
       "  <tbody>\n",
       "    <tr>\n",
       "      <th>37</th>\n",
       "      <td>힐스테이트 평택더퍼스트</td>\n",
       "      <td>경기도 평택시 서정북로 100</td>\n",
       "      <td>경기도 평택시 서정동 780</td>\n",
       "      <td>37.070743</td>\n",
       "      <td>127.060193</td>\n",
       "      <td>802.66</td>\n",
       "      <td>조경용수</td>\n",
       "      <td>2024-07-30</td>\n",
       "    </tr>\n",
       "    <tr>\n",
       "      <th>38</th>\n",
       "      <td>고덕국제화지구 Ebc-1BL(고덕스카이시티)</td>\n",
       "      <td>경기도 평택시 고덕국제대로 99</td>\n",
       "      <td>경기도 평택시 고덕동 2618-1</td>\n",
       "      <td>37.044476</td>\n",
       "      <td>127.040310</td>\n",
       "      <td>605.60</td>\n",
       "      <td>조경용수</td>\n",
       "      <td>2024-07-30</td>\n",
       "    </tr>\n",
       "    <tr>\n",
       "      <th>39</th>\n",
       "      <td>고덕국제화지구 Ebc-2BL(힐스테이트고덕센트럴)</td>\n",
       "      <td>경기도 평택시 고덕국제대로77</td>\n",
       "      <td>경기도 평택시 고덕동 2618-3</td>\n",
       "      <td>37.043971</td>\n",
       "      <td>127.042457</td>\n",
       "      <td>828.48</td>\n",
       "      <td>조경용수</td>\n",
       "      <td>2024-07-30</td>\n",
       "    </tr>\n",
       "  </tbody>\n",
       "</table>\n",
       "</div>"
      ],
      "text/plain": [
       "                            시설명              도로명주소                지번주소  \\\n",
       "37                 힐스테이트 평택더퍼스트   경기도 평택시 서정북로 100     경기도 평택시 서정동 780   \n",
       "38     고덕국제화지구 Ebc-1BL(고덕스카이시티)  경기도 평택시 고덕국제대로 99  경기도 평택시 고덕동 2618-1   \n",
       "39  고덕국제화지구 Ebc-2BL(힐스테이트고덕센트럴)   경기도 평택시 고덕국제대로77  경기도 평택시 고덕동 2618-3   \n",
       "\n",
       "           위도          경도  저류조 용량  이용용도     데이터기준일자  \n",
       "37  37.070743  127.060193  802.66  조경용수  2024-07-30  \n",
       "38  37.044476  127.040310  605.60  조경용수  2024-07-30  \n",
       "39  37.043971  127.042457  828.48  조경용수  2024-07-30  "
      ]
     },
     "execution_count": 35,
     "metadata": {},
     "output_type": "execute_result"
    }
   ],
   "source": [
    "df_csv_rain.tail(3)"
   ]
  }
 ],
 "metadata": {
  "kernelspec": {
   "display_name": "Python 3",
   "language": "python",
   "name": "python3"
  },
  "language_info": {
   "codemirror_mode": {
    "name": "ipython",
    "version": 3
   },
   "file_extension": ".py",
   "mimetype": "text/x-python",
   "name": "python",
   "nbconvert_exporter": "python",
   "pygments_lexer": "ipython3",
   "version": "3.11.5"
  }
 },
 "nbformat": 4,
 "nbformat_minor": 2
}
