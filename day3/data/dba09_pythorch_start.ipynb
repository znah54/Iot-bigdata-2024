{
 "cells": [
  {
   "cell_type": "markdown",
   "metadata": {},
   "source": [
    "### PyTorch\n",
    "\n",
    "<img src=\"https://upload.wikimedia.org/wikipedia/commons/thumb/c/c6/PyTorch_logo_black.svg/1920px-PyTorch_logo_black.svg.png\"\n",
    "    width=\"700\" style=\"background:white\">\n",
    "\n",
    "- https://pytorch.org/ 공식사이트\n",
    "- https://tutorials.pytorch.kr/ 튜토리얼만 한글화 사이트"
   ]
  },
  {
   "cell_type": "markdown",
   "metadata": {},
   "source": [
    "#### PyTorch 설치\n",
    "- CPU 설치\n",
    "    - 간단하지만, 그래픽카드 가속 사용할 수 없음\n",
    "    - 기본 파이썬 환경 설치\n",
    "\n",
    "- GPU 설치\n",
    "    - 가상환경 생성, 설치\n",
    "\n",
    "##### CPU 설치\n",
    "- https://pytorch.org/get-started/locally/ 나와있는 Note에서 해당 플랫폼 종류 선택, 명령어 복사 실행\n",
    "\n",
    "```python\n",
    "    !pip install torch torchvision torchaudio\n",
    "```"
   ]
  },
  {
   "cell_type": "code",
   "execution_count": 13,
   "metadata": {},
   "outputs": [
    {
     "name": "stdout",
     "output_type": "stream",
     "text": [
      "Requirement already satisfied: torch in c:\\dev\\langs\\python311\\lib\\site-packages (2.4.0)\n",
      "Requirement already satisfied: torchvision in c:\\dev\\langs\\python311\\lib\\site-packages (0.19.0)\n",
      "Requirement already satisfied: torchaudio in c:\\dev\\langs\\python311\\lib\\site-packages (2.4.0)\n",
      "Requirement already satisfied: filelock in c:\\dev\\langs\\python311\\lib\\site-packages (from torch) (3.13.1)\n",
      "Requirement already satisfied: typing-extensions>=4.8.0 in c:\\dev\\langs\\python311\\lib\\site-packages (from torch) (4.9.0)\n",
      "Requirement already satisfied: sympy in c:\\dev\\langs\\python311\\lib\\site-packages (from torch) (1.13.1)\n",
      "Requirement already satisfied: networkx in c:\\dev\\langs\\python311\\lib\\site-packages (from torch) (3.3)\n",
      "Requirement already satisfied: jinja2 in c:\\dev\\langs\\python311\\lib\\site-packages (from torch) (3.1.3)\n",
      "Requirement already satisfied: fsspec in c:\\dev\\langs\\python311\\lib\\site-packages (from torch) (2024.6.1)\n",
      "Requirement already satisfied: numpy<2 in c:\\dev\\langs\\python311\\lib\\site-packages (from torchvision) (1.26.3)\n",
      "Requirement already satisfied: pillow!=8.3.*,>=5.3.0 in c:\\dev\\langs\\python311\\lib\\site-packages (from torchvision) (10.2.0)\n",
      "Requirement already satisfied: MarkupSafe>=2.0 in c:\\dev\\langs\\python311\\lib\\site-packages (from jinja2->torch) (2.1.4)\n",
      "Requirement already satisfied: mpmath<1.4,>=1.1.0 in c:\\dev\\langs\\python311\\lib\\site-packages (from sympy->torch) (1.3.0)\n"
     ]
    }
   ],
   "source": [
    "!pip install torch torchvision torchaudio"
   ]
  },
  {
   "cell_type": "code",
   "execution_count": 1,
   "metadata": {},
   "outputs": [],
   "source": [
    "import torch"
   ]
  },
  {
   "cell_type": "code",
   "execution_count": 2,
   "metadata": {},
   "outputs": [
    {
     "data": {
      "text/plain": [
       "'2.4.0+cpu'"
      ]
     },
     "execution_count": 2,
     "metadata": {},
     "output_type": "execute_result"
    }
   ],
   "source": [
    "torch.__version__"
   ]
  },
  {
   "cell_type": "markdown",
   "metadata": {},
   "source": [
    "##### PyTorch GPU 설치\n",
    "- NVIDIA GPU에서만 가능, CUDA로 되어있기 때문\n",
    "- GPU 설치가 가능한지 먼저 확인\n",
    "\n",
    "```python\n",
    "!nvidia-smi\n",
    "```"
   ]
  },
  {
   "cell_type": "code",
   "execution_count": 12,
   "metadata": {},
   "outputs": [
    {
     "name": "stderr",
     "output_type": "stream",
     "text": [
      "'nvidia-smi'��(��) ���� �Ǵ� �ܺ� ����, ������ �� �ִ� ���α׷�, �Ǵ�\n",
      "��ġ ������ �ƴմϴ�.\n"
     ]
    }
   ],
   "source": [
    "!nvidia-smi"
   ]
  },
  {
   "cell_type": "markdown",
   "metadata": {},
   "source": [
    "##### CUDA Version 12.2\n",
    "- CUDA(Compute Un)\n",
    "- \n",
    "\n",
    "##### CUDA 설치\n",
    "- CUDA Toolkit 12.2\n",
    "\n",
    "- cu"
   ]
  },
  {
   "cell_type": "markdown",
   "metadata": {},
   "source": [
    "#### GPU용 파이썬 가상환경 만들기\n",
    "- GPU PyTorch는 설치로그를 봐야하기 때문에 명령프롬포트에서 진행\n",
    "\n",
    "- 터미널 오픈\n",
    "    - virtualenv 확인\n",
    "    - pip install virtualenv\n",
    "- 가상환경 활성화\n",
    "    - cd gpu_env\\Scripts\\activate \n",
    "\n",
    "- PyTorch GPU 설치\n",
    "    - 파이토치 GetStarted 사이트에서 확인 명령어\n",
    "    - pip install torch torchvision torchaudio --index-url https://download.pytorch.org/whl/cu121"
   ]
  },
  {
   "cell_type": "markdown",
   "metadata": {},
   "source": [
    "##### 파이토치 GPU 확인"
   ]
  },
  {
   "cell_type": "code",
   "execution_count": 8,
   "metadata": {},
   "outputs": [],
   "source": [
    "import torch"
   ]
  },
  {
   "cell_type": "code",
   "execution_count": 9,
   "metadata": {},
   "outputs": [
    {
     "data": {
      "text/plain": [
       "'2.4.0+cu121'"
      ]
     },
     "execution_count": 9,
     "metadata": {},
     "output_type": "execute_result"
    }
   ],
   "source": [
    "## 2.4 0+cu121 --> CUDA 12.1 버전의 PyTorch\n",
    "torch.__version__"
   ]
  },
  {
   "cell_type": "code",
   "execution_count": 11,
   "metadata": {},
   "outputs": [
    {
     "data": {
      "text/plain": [
       "False"
      ]
     },
     "execution_count": 11,
     "metadata": {},
     "output_type": "execute_result"
    }
   ],
   "source": [
    "## CUDA 쓸 수 있는지 확인\n",
    "torch.cuda.is_available()"
   ]
  },
  {
   "cell_type": "code",
   "execution_count": null,
   "metadata": {},
   "outputs": [],
   "source": [
    "## 설치된 CUDA가 동작하는 그래픽카드 정보확인\n",
    "torch.cuda.get"
   ]
  },
  {
   "cell_type": "markdown",
   "metadata": {},
   "source": [
    "##### 이제부터 GPU 가속으로 파이토치(텐서플로 가능) 딥러닝을 할 수 있음"
   ]
  }
 ],
 "metadata": {
  "kernelspec": {
   "display_name": "Python 3",
   "language": "python",
   "name": "python3"
  },
  "language_info": {
   "codemirror_mode": {
    "name": "ipython",
    "version": 3
   },
   "file_extension": ".py",
   "mimetype": "text/x-python",
   "name": "python",
   "nbconvert_exporter": "python",
   "pygments_lexer": "ipython3",
   "version": "3.11.5"
  }
 },
 "nbformat": 4,
 "nbformat_minor": 2
}
